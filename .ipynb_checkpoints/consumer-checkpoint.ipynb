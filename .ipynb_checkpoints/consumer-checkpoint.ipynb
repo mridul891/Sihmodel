{
 "cells": [
  {
   "cell_type": "code",
   "execution_count": 1,
   "id": "40bc4c8b-bd32-477e-9821-9028084f6a2e",
   "metadata": {},
   "outputs": [],
   "source": [
    "from kafka import KafkaConsumer , KafkaProducer\n",
    "from time import sleep \n",
    "from json import dumps ,loads\n",
    "import json"
   ]
  },
  {
   "cell_type": "code",
   "execution_count": 5,
   "id": "a107fd51-bce4-4254-b88f-f5b4f8884b9c",
   "metadata": {},
   "outputs": [],
   "source": [
    "consumer = KafkaConsumer(\n",
    "    'demoTest',\n",
    "    bootstrap_servers= ['13.233.91.150:9092'],\n",
    "    value_deserializer=lambda x: loads(x.decode('utf-8')))\n",
    "\n",
    "\n",
    "for c in consumer:\n",
    "    print(c.value)"
   ]
  },
  {
   "cell_type": "code",
   "execution_count": null,
   "id": "83964107-4213-4175-abb1-28995acf4b00",
   "metadata": {},
   "outputs": [],
   "source": []
  }
 ],
 "metadata": {
  "kernelspec": {
   "display_name": "Python 3 (ipykernel)",
   "language": "python",
   "name": "python3"
  },
  "language_info": {
   "codemirror_mode": {
    "name": "ipython",
    "version": 3
   },
   "file_extension": ".py",
   "mimetype": "text/x-python",
   "name": "python",
   "nbconvert_exporter": "python",
   "pygments_lexer": "ipython3",
   "version": "3.11.8"
  }
 },
 "nbformat": 4,
 "nbformat_minor": 5
}
